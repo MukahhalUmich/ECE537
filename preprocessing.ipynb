{
 "cells": [
  {
   "cell_type": "code",
   "execution_count": 24,
   "metadata": {},
   "outputs": [],
   "source": [
    "import pandas as pd"
   ]
  },
  {
   "cell_type": "code",
   "execution_count": 8,
   "metadata": {},
   "outputs": [
    {
     "data": {
      "text/plain": [
       "price                int64\n",
       "area                 int64\n",
       "bedrooms             int64\n",
       "bathrooms            int64\n",
       "stories              int64\n",
       "mainroad            object\n",
       "guestroom           object\n",
       "basement            object\n",
       "hotwaterheating     object\n",
       "airconditioning     object\n",
       "parking              int64\n",
       "prefarea            object\n",
       "furnishingstatus    object\n",
       "dtype: object"
      ]
     },
     "execution_count": 8,
     "metadata": {},
     "output_type": "execute_result"
    }
   ],
   "source": [
    "df = pd.read_csv(\"Housing.csv\")\n",
    "df.dtypes"
   ]
  },
  {
   "cell_type": "code",
   "execution_count": 26,
   "metadata": {},
   "outputs": [
    {
     "name": "stdout",
     "output_type": "stream",
     "text": [
      "        price  area  bedrooms  bathrooms  stories  mainroad  guestroom  \\\n",
      "0    13300000  7420         4          2        3         1          0   \n",
      "1    12250000  8960         4          4        4         1          0   \n",
      "2    12250000  9960         3          2        2         1          0   \n",
      "3    12215000  7500         4          2        2         1          0   \n",
      "4    11410000  7420         4          1        2         1          1   \n",
      "..        ...   ...       ...        ...      ...       ...        ...   \n",
      "540   1820000  3000         2          1        1         1          0   \n",
      "541   1767150  2400         3          1        1         0          0   \n",
      "542   1750000  3620         2          1        1         1          0   \n",
      "543   1750000  2910         3          1        1         0          0   \n",
      "544   1750000  3850         3          1        2         1          0   \n",
      "\n",
      "     basement  hotwaterheating  airconditioning  parking  prefarea  \\\n",
      "0           0                0                1        2         1   \n",
      "1           0                0                1        3         0   \n",
      "2           1                0                0        2         1   \n",
      "3           1                0                1        3         1   \n",
      "4           1                0                1        2         0   \n",
      "..        ...              ...              ...      ...       ...   \n",
      "540         1                0                0        2         0   \n",
      "541         0                0                0        0         0   \n",
      "542         0                0                0        0         0   \n",
      "543         0                0                0        0         0   \n",
      "544         0                0                0        0         0   \n",
      "\n",
      "     furnishingstatus  \n",
      "0                   1  \n",
      "1                   1  \n",
      "2                   2  \n",
      "3                   1  \n",
      "4                   1  \n",
      "..                ...  \n",
      "540                 3  \n",
      "541                 2  \n",
      "542                 3  \n",
      "543                 1  \n",
      "544                 3  \n",
      "\n",
      "[545 rows x 13 columns]\n"
     ]
    }
   ],
   "source": [
    "\n",
    "# Data Cleaning\n",
    "df['mainroad'] = df['mainroad'].replace({'yes': 1, 'no': 0})\n",
    "df['guestroom'] = df['guestroom'].replace({'yes': 1, 'no': 0})\n",
    "df['basement'] = df['basement'].replace({'yes': 1, 'no': 0})\n",
    "df['hotwaterheating'] = df['hotwaterheating'].replace({'yes': 1, 'no': 0})\n",
    "df['airconditioning'] = df['airconditioning'].replace({'yes': 1, 'no': 0})\n",
    "df['prefarea'] = df['prefarea'].replace({'yes': 1, 'no': 0})\n",
    "\n",
    "furnishing_map = {\"furnished\": 1, \"semi-furnished\": 2, \"unfurnished\": 3}  # Add \"unfurnished\" if needed\n",
    "df[\"furnishingstatus\"] = df[\"furnishingstatus\"].map(furnishing_map)\n",
    "\n",
    "print(df)\n",
    "\n",
    "df.to_csv(\"cleaned_housing.csv\", index=False)\n"
   ]
  },
  {
   "cell_type": "code",
   "execution_count": 27,
   "metadata": {},
   "outputs": [
    {
     "name": "stdout",
     "output_type": "stream",
     "text": [
      "      price  area  bedrooms  bathrooms  stories  mainroad  guestroom  \\\n",
      "0  13300000  7420         4          2        3         1          0   \n",
      "1  12250000  8960         4          4        4         1          0   \n",
      "2  12250000  9960         3          2        2         1          0   \n",
      "3  12215000  7500         4          2        2         1          0   \n",
      "4  11410000  7420         4          1        2         1          1   \n",
      "\n",
      "   basement  hotwaterheating  airconditioning  parking  prefarea  \\\n",
      "0         0                0                1        2         1   \n",
      "1         0                0                1        3         0   \n",
      "2         1                0                0        2         1   \n",
      "3         1                0                1        3         1   \n",
      "4         1                0                1        2         0   \n",
      "\n",
      "   furnishingstatus  price_per_area  room_count  amenity_score  \\\n",
      "0                 1     1792.452830           6              2   \n",
      "1                 1     1367.187500           8              1   \n",
      "2                 2     1229.919679           5              2   \n",
      "3                 1     1628.666667           6              3   \n",
      "4                 1     1537.735849           5              3   \n",
      "\n",
      "   bath_bed_ratio  story_bed_ratio  parking_bed_ratio  total_comfort_score  \n",
      "0        0.500000         0.750000           0.500000                    1  \n",
      "1        1.000000         1.000000           0.750000                    1  \n",
      "2        0.666667         0.666667           0.666667                    1  \n",
      "3        0.500000         0.500000           0.750000                    2  \n",
      "4        0.250000         0.500000           0.500000                    3  \n"
     ]
    }
   ],
   "source": [
    "#Feature engineering\n",
    "df['price_per_area'] = df['price'] / df['area']\n",
    "df['room_count'] = df['bedrooms'] + df['bathrooms']\n",
    "amenities = [ 'guestroom', 'basement', 'hotwaterheating', 'airconditioning', 'prefarea']\n",
    "df['amenity_score'] = df[amenities].sum(axis=1)\n",
    "df['bath_bed_ratio'] = df['bathrooms'] / df['bedrooms']\n",
    "df['story_bed_ratio'] = df['stories'] / df['bedrooms']\n",
    "df['parking_bed_ratio'] = df['parking'] / df['bedrooms']\n",
    "df['total_comfort_score'] =  df['guestroom'] + df['basement'] + df['hotwaterheating'] + df['airconditioning']\n",
    "print(df.head())\n",
    "df.to_csv(\"enhanced_housing.csv\", index=False)"
   ]
  }
 ],
 "metadata": {
  "kernelspec": {
   "display_name": "Python 3",
   "language": "python",
   "name": "python3"
  },
  "language_info": {
   "codemirror_mode": {
    "name": "ipython",
    "version": 3
   },
   "file_extension": ".py",
   "mimetype": "text/x-python",
   "name": "python",
   "nbconvert_exporter": "python",
   "pygments_lexer": "ipython3",
   "version": "3.12.0"
  }
 },
 "nbformat": 4,
 "nbformat_minor": 2
}
